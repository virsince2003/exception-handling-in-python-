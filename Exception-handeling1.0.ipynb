{
 "cells": [
  {
   "cell_type": "markdown",
   "id": "922920b4-d3e3-471e-9a00-cde117f1165c",
   "metadata": {},
   "source": [
    " ### Q1. What is an Exception in python? Write the difference between Exceptions and syntax errors?"
   ]
  },
  {
   "cell_type": "markdown",
   "id": "66734f3c-b770-4cbd-9397-a9902507c743",
   "metadata": {},
   "source": [
    "Exception is an error that occurs during the execution of a program that disrupts the normal flow of instructions and it stops the execution of program."
   ]
  },
  {
   "cell_type": "markdown",
   "id": "bb3eca02-fe8a-4f32-85cf-b57a4030fb7d",
   "metadata": {},
   "source": [
    "Exception is when the code in not wrong but the internal events changes the flow of the program and exception is not the syntax error.\n",
    "Syntax errors occur when there is a mistake in the syntax of a program i.e., when you don’t follow Python’s syntax rules"
   ]
  },
  {
   "cell_type": "markdown",
   "id": "3c742531-1bff-454f-8a11-bf0d1981cf06",
   "metadata": {},
   "source": [
    "### Q2. What happens when an exception is not handled? Explain with an example"
   ]
  },
  {
   "cell_type": "markdown",
   "id": "a34283e3-ee83-4c55-acc3-4463c710d517",
   "metadata": {},
   "source": [
    " If you don’t handle it, the program terminates abruptly and the code past the line that caused the exception will not get executed."
   ]
  },
  {
   "cell_type": "code",
   "execution_count": 7,
   "id": "cfab169b-1f18-42cf-af5b-c8b2f4af9617",
   "metadata": {},
   "outputs": [
    {
     "name": "stdout",
     "output_type": "stream",
     "text": [
      "This is an error i am unable to handle division by zero\n"
     ]
    }
   ],
   "source": [
    "try:\n",
    "    a = 69\n",
    "    a/0\n",
    "except ZeroDivisionError as e:\n",
    "    print(\"This is an error i am unable to handle {}\".format(e))"
   ]
  },
  {
   "cell_type": "markdown",
   "id": "420bea5b-0cdb-46ea-9a0e-017ddb37663b",
   "metadata": {},
   "source": [
    "### Q3. Which Python statements are used to catch and handle exceptions? Explain with an example"
   ]
  },
  {
   "cell_type": "markdown",
   "id": "fa5e4a2d-ae28-482b-ab1e-59ae09cd9bfe",
   "metadata": {},
   "source": [
    "Try and except statements are used to catch and handle exceptions in Python."
   ]
  },
  {
   "cell_type": "code",
   "execution_count": 6,
   "id": "81ce7251-0744-450e-a806-3acd99562a7e",
   "metadata": {},
   "outputs": [
    {
     "name": "stdout",
     "output_type": "stream",
     "text": [
      "This is an error i am unable to handle division by zero\n"
     ]
    }
   ],
   "source": [
    "try:\n",
    "    a = 69\n",
    "    a/0\n",
    "except ZeroDivisionError as e:\n",
    "    print(\"This is an error i am unable to handle {}\".format(e))"
   ]
  },
  {
   "cell_type": "markdown",
   "id": "433e07e8-97b2-42e5-8ecf-b59000ac7dc9",
   "metadata": {},
   "source": [
    "### Q4. Explain with an example: \n",
    "    \n",
    "### a. try and else  \n",
    "### b. finally \n",
    "### c. raise"
   ]
  },
  {
   "cell_type": "markdown",
   "id": "f0d9d8ef-2255-47bd-8276-18ac0ea2baeb",
   "metadata": {},
   "source": [
    "try: it will test the excepted error to occur.\n",
    "\n",
    "else: if there is no exception then this block will be executed.\n",
    "\n",
    "finally: this block always gets executed either exception is generated or not.\n",
    "\n",
    "raise: the raise keyword is used to raise an exception."
   ]
  },
  {
   "cell_type": "code",
   "execution_count": 9,
   "id": "caf0063b-05a5-48ea-94fd-eb3d800ca8a6",
   "metadata": {},
   "outputs": [
    {
     "name": "stdout",
     "output_type": "stream",
     "text": [
      "this is an error\n",
      "i will always print here\n"
     ]
    }
   ],
   "source": [
    "try:\n",
    "    a=19\n",
    "    a/0\n",
    "except ZeroDivisionError as e:\n",
    "    print(\"this is an error\")\n",
    "else:\n",
    "    print(\"this is not error\")\n",
    "finally:\n",
    "    print(\"i will always print here\")\n",
    "if a<0:\n",
    "    raise Exception(\"number is below zero\")"
   ]
  },
  {
   "cell_type": "markdown",
   "id": "6d8cb10c-eb98-4a0c-8c93-298ab0f9975c",
   "metadata": {},
   "source": [
    "### Q5. What are Custom Exceptions in python? Why do we need Custom Exceptions? Explain with an example"
   ]
  },
  {
   "cell_type": "markdown",
   "id": "fce2a6df-b1ba-44db-bd7c-8b0c75976126",
   "metadata": {},
   "source": [
    "we can create a custom exception by creating a class. . It allow you to define your own error conditions and handle them in your own way."
   ]
  },
  {
   "cell_type": "code",
   "execution_count": 26,
   "id": "be955ec4-1a3f-40ee-8bb8-db9a37631878",
   "metadata": {},
   "outputs": [],
   "source": [
    "class roommates(Exception):\n",
    "    def __init__(self,people):\n",
    "        self.people=people"
   ]
  },
  {
   "cell_type": "code",
   "execution_count": 25,
   "id": "75bb3a42-28dd-46ba-90ba-977a12b17a05",
   "metadata": {},
   "outputs": [],
   "source": [
    "def roommates(num):\n",
    "    if num==0:\n",
    "        raise roommates(\"There are no roommates\")\n",
    "    elif num>3:\n",
    "        raise roommates(\"roommates should be less then three.\")\n",
    "    else:\n",
    "        print(\"welcome we are roommates.\")"
   ]
  },
  {
   "cell_type": "markdown",
   "id": "eb17cee8-1b79-49dc-a278-7a6e611147a1",
   "metadata": {},
   "source": [
    "### Q6. Create custom exception class. Use this class to handle an exception."
   ]
  },
  {
   "cell_type": "code",
   "execution_count": 31,
   "id": "3230d155-90f1-4329-9ce7-caf8341bb8df",
   "metadata": {},
   "outputs": [],
   "source": [
    "class roommates(Exception):\n",
    "    def __init__(self,people):\n",
    "        self.people=people"
   ]
  },
  {
   "cell_type": "code",
   "execution_count": 34,
   "id": "46d17e4d-b8d9-4020-8c89-f86afd81e6ea",
   "metadata": {},
   "outputs": [],
   "source": [
    "def room_mates(num):\n",
    "    if num<=0:\n",
    "        raise roommates(\"There are no roommates\")\n",
    "    elif num>3:\n",
    "        raise roommates(\"roommates should be less then 4.\")\n",
    "    else:\n",
    "        print(\"welcome we are roommates.\")"
   ]
  },
  {
   "cell_type": "code",
   "execution_count": null,
   "id": "ccde6ef0-af1f-4db4-8d78-a1e8c8589527",
   "metadata": {},
   "outputs": [],
   "source": [
    "try:\n",
    "    num = int(input(\"Enter the number of roommates\"))\n",
    "    room_mates(num)\n",
    "except roommates as e:\n",
    "    print(e)"
   ]
  },
  {
   "cell_type": "code",
   "execution_count": null,
   "id": "0a363967-5087-4410-95f8-c99ec045996c",
   "metadata": {},
   "outputs": [],
   "source": []
  }
 ],
 "metadata": {
  "kernelspec": {
   "display_name": "Python 3 (ipykernel)",
   "language": "python",
   "name": "python3"
  },
  "language_info": {
   "codemirror_mode": {
    "name": "ipython",
    "version": 3
   },
   "file_extension": ".py",
   "mimetype": "text/x-python",
   "name": "python",
   "nbconvert_exporter": "python",
   "pygments_lexer": "ipython3",
   "version": "3.10.8"
  }
 },
 "nbformat": 4,
 "nbformat_minor": 5
}
